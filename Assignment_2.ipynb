{
  "nbformat": 4,
  "nbformat_minor": 0,
  "metadata": {
    "colab": {
      "provenance": []
    },
    "kernelspec": {
      "name": "python3",
      "display_name": "Python 3"
    },
    "language_info": {
      "name": "python"
    }
  },
  "cells": [
    {
      "cell_type": "markdown",
      "source": [
        "## **THEORTICAL QUESTIONS**"
      ],
      "metadata": {
        "id": "x5uSAIjjqOWX"
      }
    },
    {
      "cell_type": "markdown",
      "source": [
        "1. **What are data structures, and why are they important?**\n",
        "\n",
        "  - Data structures are used to organize and store data efficiently for easy access and modification.\n",
        "  They are important because they manage large amounts of data and improve the performance of algorithms.\n",
        "\n",
        "\n",
        "2. **Explain the difference between mutable and immutable data types with examples.**\n",
        "  - **Mutable:** data types can be changed after creation.\n",
        "  Ex: list = [1,2,3]\n",
        "  list[0] = 5  -> [5,2,3]\n",
        "\n",
        "  - **Immutable:** data types cannot be changed after creation.\n",
        "  Ex: string = \"Hello\"\n",
        "  string[0] = 'h' -> typeerror\n",
        "\n",
        "\n",
        "\n",
        "3. **What are the main differences between lists and tuples in Python?**\n",
        "  - **Mutability:** Lists are mutable; tuples are immutable.\n",
        "\n",
        "  - **Syntax:** Lists use square brackets []; tuples use parentheses ()\n",
        "  \n",
        "  - **Performance:** Tuples are faster and use less memory.\n",
        "  \n",
        "  - **Use Cases:** Lists for dynamic data; tuples for fixed data.\n",
        "\n",
        "\n",
        "4. **Describe how dictionaries store data.**\n",
        "\n",
        "   - Dictionaries store data in key-value pairs using a hash table internally. Each key must be unique and immutable, and it maps directly to a corresponding value. Ex: {\"name\": \"Alice\", \"age\": 25}.\n",
        "\n",
        "\n",
        "5. **Why might you use a set instead of a list in Python?**\n",
        "\n",
        " - A set ensures all elements are unique\n",
        " and provides faster lookups than lists. It's ideal when you need to eliminate duplicates.\n",
        "\n",
        "\n",
        "6. **What is a string in Python, and how is it different from a list?**\n",
        "\n",
        "  - A string is an immutable sequence of characters, while a list is a mutable sequence of any data type. Strings can't be changed after creation; lists can be modified.\n",
        "\n",
        "\n",
        "7. **How do tuples ensure data integrity in Python?**\n",
        "\n",
        "  - Tuples are immutable, it means their contents can't be altered. This ensures that data remains constant and safe, making tuples suitable for read-only or fixed datasets.\n",
        "\n",
        "\n",
        "8. **What is a hash table, and how does it relate to dictionaries in Python?**\n",
        "\n",
        "   - A hash table is a data structure\n",
        "   that maps keys to values using a hash function. Python dictionaries use hash tables internally to allow fast access, insertion, and deletion of key-value pairs.\n",
        "\n",
        "\n",
        "9. **Can lists contain different data types in Python?**\n",
        "\n",
        "  - Yes, Python lists are heterogeneous\n",
        "  meaning they can contain different data types. Ex: [1, \"hello\", 2.14, True].\n",
        "\n",
        "\n",
        "10. **Explain why strings are immutable in Python.**\n",
        "\n",
        "  - Strings are immutable for performance, security, and hashing. Since strings are frequently used, making them immutable allows efficient memory sharing and safe use as keys in dictionaries.\n",
        "\n",
        "\n",
        "11. **What advantages do dictionaries offer over lists for certain tasks?**\n",
        "\n",
        "  - Dictionaries provide fast key-based access to data, making them more efficient and descriptive than lists when mapping unique identifiers to values.\n",
        "\n",
        "\n",
        "12. **Describe a scenario where using a tuple would be preferable over a list.**\n",
        "\n",
        "  - Tuples are preferred when you need to store fixed, constant data like coordinates or database records, where immutability ensures the data won't accidentally change.\n",
        "\n",
        "\n",
        "13. **How do sets handle duplicate values in Python?**\n",
        "\n",
        "  - Sets automatically remove duplicate values, ensuring that all elements are unique without any additional code from the programmer.\n",
        "\n",
        "\n",
        "14. **How does the “in” keyword work differently for lists and dictionaries?**\n",
        "\n",
        "  - For lists, in checks for the presence of a value, while for dictionaries, it checks for the presence of a key, not a value.\n",
        "\n",
        "\n",
        "15. **Can you modify the elements of a tuple? Explain why or why not.**\n",
        "\n",
        " - No, tuple elements cannot be modified because tuples are immutable, meaning their contents are fixed once defined.\n",
        "\n",
        "\n",
        "16. **What is a nested dictionary, and give an example of its use case.**\n",
        "\n",
        "  - A nested dictionary is a dictionary inside another dictionary, useful for representing hierarchical data like student records by ID: {\"101\": {\"name\": \"Alice\", \"grade\": \"A\"}}.\n",
        "\n",
        "\n",
        "17. **Describe the time complexity of accessing elements in a dictionary.**\n",
        "\n",
        "  - Accessing elements in a dictionary has an average time complexity of O(1) due to the underlying hash table structure.\n",
        "\n",
        "\n",
        "18. **In what situations are lists preferred over dictionaries?**\n",
        "\n",
        "  - Lists are preferred when data is ordered and indexed numerically, or when the relationship between elements is based on position rather than key-value pairing.\n",
        "\n",
        "19. **Why are dictionaries considered unordered, and how does that affect data retrieval?**\n",
        "  \n",
        "  - Dictionaries were historically unordered, it means item positions weren't guaranteed; although insertion order is preserved in modern Python, key-based retrieval still doesn't rely on order.\n",
        "\n",
        "20. **Explain the difference between a list and a dictionary in terms of data retrieval.**\n",
        "\n",
        "  - A list retrieves data by index position, while a dictionary retrieves data by key, making dictionaries faster and more intuitive for structured data access."
      ],
      "metadata": {
        "id": "qGQArz4npEHb"
      }
    },
    {
      "cell_type": "markdown",
      "source": [
        "## **PRACTICAL QUESTIONS**"
      ],
      "metadata": {
        "id": "DAH6Thv7xm0l"
      }
    },
    {
      "cell_type": "code",
      "execution_count": 3,
      "metadata": {
        "colab": {
          "base_uri": "https://localhost:8080/"
        },
        "id": "ozio4HU5pAym",
        "outputId": "66a909ab-981a-4931-d551-7526b1c71639"
      },
      "outputs": [
        {
          "output_type": "stream",
          "name": "stdout",
          "text": [
            "Nayanojwal\n"
          ]
        }
      ],
      "source": [
        "# 1. Create a string with your name and print it\n",
        "string = \"Nayanojwal\"\n",
        "print(string)"
      ]
    },
    {
      "cell_type": "code",
      "source": [
        "# 2. Find the length of the string \"Hello World\"\n",
        "string = 'Hello World'\n",
        "len(string)"
      ],
      "metadata": {
        "colab": {
          "base_uri": "https://localhost:8080/"
        },
        "id": "ZmXy_J5WtcTA",
        "outputId": "357b1720-4734-4bc4-d8cb-e56fb17d21db"
      },
      "execution_count": 4,
      "outputs": [
        {
          "output_type": "execute_result",
          "data": {
            "text/plain": [
              "11"
            ]
          },
          "metadata": {},
          "execution_count": 4
        }
      ]
    },
    {
      "cell_type": "code",
      "source": [
        "# 3. Slice the first 3 characters from the string \"Python Programming\"\n",
        "string = \"Python Programming\"\n",
        "string[0:3]"
      ],
      "metadata": {
        "colab": {
          "base_uri": "https://localhost:8080/",
          "height": 36
        },
        "id": "F5CDRaI8yPkY",
        "outputId": "e073a9a0-ff5f-4b78-a0f4-682f2e9093e2"
      },
      "execution_count": 6,
      "outputs": [
        {
          "output_type": "execute_result",
          "data": {
            "text/plain": [
              "'Pyt'"
            ],
            "application/vnd.google.colaboratory.intrinsic+json": {
              "type": "string"
            }
          },
          "metadata": {},
          "execution_count": 6
        }
      ]
    },
    {
      "cell_type": "code",
      "source": [
        "# 4. Convert the string \"hello\" to uppercase\n",
        "s = \"hello\"\n",
        "s.upper()"
      ],
      "metadata": {
        "colab": {
          "base_uri": "https://localhost:8080/",
          "height": 36
        },
        "id": "cHu0LdoiyYMr",
        "outputId": "98b7cf32-7087-4d93-a765-268536aab5f9"
      },
      "execution_count": 7,
      "outputs": [
        {
          "output_type": "execute_result",
          "data": {
            "text/plain": [
              "'HELLO'"
            ],
            "application/vnd.google.colaboratory.intrinsic+json": {
              "type": "string"
            }
          },
          "metadata": {},
          "execution_count": 7
        }
      ]
    },
    {
      "cell_type": "code",
      "source": [
        "# 5. Replace the word \"apple\" with \"orange\" in the string \"I like apple\"\n",
        "s = \"I like apple\"\n",
        "s1 = s.replace('apple', 'orange')\n",
        "s1"
      ],
      "metadata": {
        "colab": {
          "base_uri": "https://localhost:8080/",
          "height": 36
        },
        "id": "uJgtOFzTykVX",
        "outputId": "6ee46d18-db01-4611-ff65-9f4eccebdda8"
      },
      "execution_count": 12,
      "outputs": [
        {
          "output_type": "execute_result",
          "data": {
            "text/plain": [
              "'I like orange'"
            ],
            "application/vnd.google.colaboratory.intrinsic+json": {
              "type": "string"
            }
          },
          "metadata": {},
          "execution_count": 12
        }
      ]
    },
    {
      "cell_type": "code",
      "source": [
        "# 6. Create a list with numbers 1 to 5 and print it\n",
        "num = [1,2,3,4,5]\n",
        "print(num)"
      ],
      "metadata": {
        "colab": {
          "base_uri": "https://localhost:8080/"
        },
        "id": "kzjuwObTyvy-",
        "outputId": "e4691942-88ef-4d97-c82f-1f0deb9c5e5d"
      },
      "execution_count": 13,
      "outputs": [
        {
          "output_type": "stream",
          "name": "stdout",
          "text": [
            "[1, 2, 3, 4, 5]\n"
          ]
        }
      ]
    },
    {
      "cell_type": "code",
      "source": [
        "# 7. Append the number 10 to the list [1, 2, 3, 4]\n",
        "num = [1,2,3,4]\n",
        "num.append(10)\n",
        "num\n"
      ],
      "metadata": {
        "colab": {
          "base_uri": "https://localhost:8080/"
        },
        "id": "t3wZS-X0zDaQ",
        "outputId": "195953ee-f059-49ee-9290-fa61fd892e07"
      },
      "execution_count": 18,
      "outputs": [
        {
          "output_type": "execute_result",
          "data": {
            "text/plain": [
              "[1, 2, 3, 4, 10]"
            ]
          },
          "metadata": {},
          "execution_count": 18
        }
      ]
    },
    {
      "cell_type": "code",
      "source": [
        "# 8. Remove the number 3 from the list [1, 2, 3, 4, 5]\n",
        "num = [1,2,3,4,5]\n",
        "num.remove(3)\n",
        "num"
      ],
      "metadata": {
        "colab": {
          "base_uri": "https://localhost:8080/"
        },
        "id": "6zQHAfM5zJR6",
        "outputId": "afe5f6bd-e178-426c-b3de-369eee545133"
      },
      "execution_count": 19,
      "outputs": [
        {
          "output_type": "execute_result",
          "data": {
            "text/plain": [
              "[1, 2, 4, 5]"
            ]
          },
          "metadata": {},
          "execution_count": 19
        }
      ]
    },
    {
      "cell_type": "code",
      "source": [
        "# 9. Access the second element in the list ['a', 'b', 'c', 'd']\n",
        "lis = ['a','b','c','d']\n",
        "lis[1]"
      ],
      "metadata": {
        "colab": {
          "base_uri": "https://localhost:8080/",
          "height": 36
        },
        "id": "sLiNiKhEzYCo",
        "outputId": "e6a3819c-345f-41d4-fa8f-59fda1eb0a37"
      },
      "execution_count": 20,
      "outputs": [
        {
          "output_type": "execute_result",
          "data": {
            "text/plain": [
              "'b'"
            ],
            "application/vnd.google.colaboratory.intrinsic+json": {
              "type": "string"
            }
          },
          "metadata": {},
          "execution_count": 20
        }
      ]
    },
    {
      "cell_type": "code",
      "source": [
        "# 10. Reverse the list [10, 20, 30, 40, 50]\n",
        "lis = [10,20,30,40,50]\n",
        "lis.reverse()\n",
        "lis"
      ],
      "metadata": {
        "colab": {
          "base_uri": "https://localhost:8080/"
        },
        "id": "bDgq8QfOzh0_",
        "outputId": "c71ab06d-2fa9-496b-90fb-66fb1988a13d"
      },
      "execution_count": 23,
      "outputs": [
        {
          "output_type": "execute_result",
          "data": {
            "text/plain": [
              "[50, 40, 30, 20, 10]"
            ]
          },
          "metadata": {},
          "execution_count": 23
        }
      ]
    },
    {
      "cell_type": "code",
      "source": [
        "# 11. Create a tuple with the elements 100, 200, 300 and print it\n",
        "t = (100, 200, 300)\n",
        "print(t)\n"
      ],
      "metadata": {
        "colab": {
          "base_uri": "https://localhost:8080/"
        },
        "id": "ym9hh2kdznq3",
        "outputId": "a138114d-0d15-4f86-900b-5de0c70097f2"
      },
      "execution_count": 24,
      "outputs": [
        {
          "output_type": "stream",
          "name": "stdout",
          "text": [
            "(100, 200, 300)\n"
          ]
        }
      ]
    },
    {
      "cell_type": "code",
      "source": [
        "# 12. Access the second-to-last element of the tuple ('red', 'green', 'blue', 'yellow')\n",
        "colors = ('red', 'green', 'blue', 'yellow')\n",
        "print(colors[-2])\n"
      ],
      "metadata": {
        "colab": {
          "base_uri": "https://localhost:8080/"
        },
        "id": "_9o6UduBz3wG",
        "outputId": "ad84f681-e849-4f92-999d-65e82054ade3"
      },
      "execution_count": 25,
      "outputs": [
        {
          "output_type": "stream",
          "name": "stdout",
          "text": [
            "blue\n"
          ]
        }
      ]
    },
    {
      "cell_type": "code",
      "source": [
        "# 13. Find the minimum number in the tuple (10, 20, 5, 15)\n",
        "nums = (10, 20, 5, 15)\n",
        "print(min(nums))\n"
      ],
      "metadata": {
        "colab": {
          "base_uri": "https://localhost:8080/"
        },
        "id": "B2ImUg4Ez9eb",
        "outputId": "90ed426f-f08c-4da9-9f46-ff1c1e7c100c"
      },
      "execution_count": 26,
      "outputs": [
        {
          "output_type": "stream",
          "name": "stdout",
          "text": [
            "5\n"
          ]
        }
      ]
    },
    {
      "cell_type": "code",
      "source": [
        "# 14. Find the index of the element \"cat\" in the tuple ('dog', 'cat', 'rabbit')\n",
        "animals = ('dog', 'cat', 'rabbit')\n",
        "print(animals.index(\"cat\"))\n"
      ],
      "metadata": {
        "colab": {
          "base_uri": "https://localhost:8080/"
        },
        "id": "rSTAX4JN0Bog",
        "outputId": "e5ccc171-bb9d-4aa1-8121-a833c8a4e2c2"
      },
      "execution_count": 27,
      "outputs": [
        {
          "output_type": "stream",
          "name": "stdout",
          "text": [
            "1\n"
          ]
        }
      ]
    },
    {
      "cell_type": "code",
      "source": [
        "# 15. Create a tuple containing three different fruits and check if \"kiwi\" is in it\n",
        "fruits = (\"apple\", \"banana\", \"kiwi\")\n",
        "print(\"kiwi\" in fruits)\n"
      ],
      "metadata": {
        "colab": {
          "base_uri": "https://localhost:8080/"
        },
        "id": "IWlSOM_D0Hhi",
        "outputId": "98cb501b-ef55-4870-e756-3df94d130574"
      },
      "execution_count": 28,
      "outputs": [
        {
          "output_type": "stream",
          "name": "stdout",
          "text": [
            "True\n"
          ]
        }
      ]
    },
    {
      "cell_type": "code",
      "source": [
        "# 16. Create a set with the elements 'a', 'b', 'c' and print it\n",
        "s = {'a', 'b', 'c'}\n",
        "print(s)\n"
      ],
      "metadata": {
        "colab": {
          "base_uri": "https://localhost:8080/"
        },
        "id": "qw2bnObG0MZ-",
        "outputId": "ee23aa9b-ba01-45fa-f6f5-0f4448f1ea1d"
      },
      "execution_count": 29,
      "outputs": [
        {
          "output_type": "stream",
          "name": "stdout",
          "text": [
            "{'c', 'b', 'a'}\n"
          ]
        }
      ]
    },
    {
      "cell_type": "code",
      "source": [
        "# 17. Clear all elements from the set {1, 2, 3, 4, 5}\n",
        "s = {1, 2, 3, 4, 5}\n",
        "s.clear()\n",
        "print(s)\n"
      ],
      "metadata": {
        "colab": {
          "base_uri": "https://localhost:8080/"
        },
        "id": "Hg9R6x8G0QiB",
        "outputId": "23c7e505-03c6-4ad0-bd61-d4eda3bf4705"
      },
      "execution_count": 30,
      "outputs": [
        {
          "output_type": "stream",
          "name": "stdout",
          "text": [
            "set()\n"
          ]
        }
      ]
    },
    {
      "cell_type": "code",
      "source": [
        "# 18. Remove the element 4 from the set {1, 2, 3, 4}\n",
        "s = {1, 2, 3, 4}\n",
        "s.remove(4)\n",
        "print(s)\n"
      ],
      "metadata": {
        "colab": {
          "base_uri": "https://localhost:8080/"
        },
        "id": "sZULM6Pv0Ue2",
        "outputId": "3fc1bdd2-a21a-4eb0-cf6c-8fed24594811"
      },
      "execution_count": 31,
      "outputs": [
        {
          "output_type": "stream",
          "name": "stdout",
          "text": [
            "{1, 2, 3}\n"
          ]
        }
      ]
    },
    {
      "cell_type": "code",
      "source": [
        "# 19. Find the union of two sets {1, 2, 3} and {3, 4, 5}\n",
        "a = {1, 2, 3}\n",
        "b = {3, 4, 5}\n",
        "print(a.union(b))\n"
      ],
      "metadata": {
        "colab": {
          "base_uri": "https://localhost:8080/"
        },
        "id": "fzOAWzEG0Yvc",
        "outputId": "f15dbf12-683f-4a2c-8dd0-e634dc3cda5b"
      },
      "execution_count": 32,
      "outputs": [
        {
          "output_type": "stream",
          "name": "stdout",
          "text": [
            "{1, 2, 3, 4, 5}\n"
          ]
        }
      ]
    },
    {
      "cell_type": "code",
      "source": [
        "# 20. Find the intersection of two sets {1, 2, 3} and {2, 3, 4}\n",
        "a = {1, 2, 3}\n",
        "b = {2, 3, 4}\n",
        "print(a.intersection(b))\n"
      ],
      "metadata": {
        "colab": {
          "base_uri": "https://localhost:8080/"
        },
        "id": "Asv33xRK0dQ3",
        "outputId": "bae0aa4e-4bdd-4ac5-ad49-ce11ba370af8"
      },
      "execution_count": 33,
      "outputs": [
        {
          "output_type": "stream",
          "name": "stdout",
          "text": [
            "{2, 3}\n"
          ]
        }
      ]
    },
    {
      "cell_type": "code",
      "source": [
        "# 21. Create a dictionary with the keys \"name\", \"age\", and \"city\", and print it\n",
        "person = {\"name\": \"nayanojwal\", \"age\": 19, \"city\": \"Hyderabad\"}\n",
        "print(person)\n"
      ],
      "metadata": {
        "colab": {
          "base_uri": "https://localhost:8080/"
        },
        "id": "SK9xyhli0g8w",
        "outputId": "78b6aff9-2266-4621-94d3-ab322e3e98c9"
      },
      "execution_count": 35,
      "outputs": [
        {
          "output_type": "stream",
          "name": "stdout",
          "text": [
            "{'name': 'nayanojwal', 'age': 19, 'city': 'Hyderabad'}\n"
          ]
        }
      ]
    },
    {
      "cell_type": "code",
      "source": [
        "# 22. Add a new key-value pair \"country\": \"USA\" to the dictionary {'name': 'John', 'age': 25}\n",
        "person = {'name': 'John', 'age': 25}\n",
        "person[\"country\"] = \"USA\"\n",
        "print(person)\n"
      ],
      "metadata": {
        "colab": {
          "base_uri": "https://localhost:8080/"
        },
        "id": "9vfp2Nxh0orS",
        "outputId": "7c2fab17-b561-4d80-b28c-f4427401bb72"
      },
      "execution_count": 36,
      "outputs": [
        {
          "output_type": "stream",
          "name": "stdout",
          "text": [
            "{'name': 'John', 'age': 25, 'country': 'USA'}\n"
          ]
        }
      ]
    },
    {
      "cell_type": "code",
      "source": [
        "# 23. Access the value associated with the key \"name\" in the dictionary {'name': 'Alice', 'age': 30}\n",
        "person = {'name': 'Alice', 'age': 30}\n",
        "print(person[\"name\"])\n"
      ],
      "metadata": {
        "colab": {
          "base_uri": "https://localhost:8080/"
        },
        "id": "RTHbQVyf07KA",
        "outputId": "1673e1ce-00d3-4537-9d93-cebe8a8bcab1"
      },
      "execution_count": 37,
      "outputs": [
        {
          "output_type": "stream",
          "name": "stdout",
          "text": [
            "Alice\n"
          ]
        }
      ]
    },
    {
      "cell_type": "code",
      "source": [
        "# 24. Remove the key \"age\" from the dictionary {'name': 'Bob', 'age': 22, 'city': 'New York'}\n",
        "person = {'name': 'Bob', 'age': 22, 'city': 'New York'}\n",
        "del person[\"age\"]\n",
        "print(person)\n"
      ],
      "metadata": {
        "colab": {
          "base_uri": "https://localhost:8080/"
        },
        "id": "4qkNCriF0_8k",
        "outputId": "7003534a-704d-49ff-a53d-348523d65b05"
      },
      "execution_count": 38,
      "outputs": [
        {
          "output_type": "stream",
          "name": "stdout",
          "text": [
            "{'name': 'Bob', 'city': 'New York'}\n"
          ]
        }
      ]
    },
    {
      "cell_type": "code",
      "source": [
        "# 25. Check if the key \"city\" exists in the dictionary {'name': 'Alice', 'city': 'Paris'}\n",
        "person = {'name': 'Alice', 'city': 'Paris'}\n",
        "print(\"city\" in person)\n"
      ],
      "metadata": {
        "colab": {
          "base_uri": "https://localhost:8080/"
        },
        "id": "gDk9B50s1EN5",
        "outputId": "a4845959-78e5-48f6-bc8e-4d53597ba4cf"
      },
      "execution_count": 39,
      "outputs": [
        {
          "output_type": "stream",
          "name": "stdout",
          "text": [
            "True\n"
          ]
        }
      ]
    },
    {
      "cell_type": "code",
      "source": [
        "# 26. Create a list, a tuple, and a dictionary, and print them all\n",
        "lst = [1, 2, 3]\n",
        "tup = (4, 5, 6)\n",
        "dct = {\"a\": 1, \"b\": 2}\n",
        "print(lst, tup, dct)\n"
      ],
      "metadata": {
        "colab": {
          "base_uri": "https://localhost:8080/"
        },
        "id": "aJwDXByE1IMY",
        "outputId": "d182ba11-6be5-4362-8ea0-3e9cd14b4cc2"
      },
      "execution_count": 40,
      "outputs": [
        {
          "output_type": "stream",
          "name": "stdout",
          "text": [
            "[1, 2, 3] (4, 5, 6) {'a': 1, 'b': 2}\n"
          ]
        }
      ]
    },
    {
      "cell_type": "code",
      "source": [
        "# 27. Create a list of 5 random numbers between 1 and 100, sort it in ascending order, and print the result\n",
        "num = [10,51,23,69,17]\n",
        "num.sort()\n",
        "print(num)"
      ],
      "metadata": {
        "colab": {
          "base_uri": "https://localhost:8080/"
        },
        "id": "JVYGdhKh1MA9",
        "outputId": "42ef60ae-c63e-4006-fe0a-426b083568aa"
      },
      "execution_count": 42,
      "outputs": [
        {
          "output_type": "stream",
          "name": "stdout",
          "text": [
            "[10, 17, 23, 51, 69]\n"
          ]
        }
      ]
    },
    {
      "cell_type": "code",
      "source": [
        "# 28. Create a list with strings and print the element at the third index\n",
        "words = [\"apple\", \"banana\", \"cherry\", \"date\", \"elderberry\"]\n",
        "print(words[3])\n"
      ],
      "metadata": {
        "colab": {
          "base_uri": "https://localhost:8080/"
        },
        "id": "WDZbiWMt1eUH",
        "outputId": "807f9501-b857-4e2b-fdc4-c867403b5e01"
      },
      "execution_count": 43,
      "outputs": [
        {
          "output_type": "stream",
          "name": "stdout",
          "text": [
            "date\n"
          ]
        }
      ]
    },
    {
      "cell_type": "code",
      "source": [
        "# 29. Combine two dictionaries into one and print the result\n",
        "d1 = {\"a\": 1, \"b\": 2}\n",
        "d2 = {\"c\": 3, \"d\": 4}\n",
        "combine = {**d1, **d2}\n",
        "print(combine)\n"
      ],
      "metadata": {
        "colab": {
          "base_uri": "https://localhost:8080/"
        },
        "id": "4G-UIePj1mA9",
        "outputId": "ef803a6d-8d21-47e4-ec59-c8ff3ed1fe6f"
      },
      "execution_count": 47,
      "outputs": [
        {
          "output_type": "stream",
          "name": "stdout",
          "text": [
            "{'a': 1, 'b': 2, 'c': 3, 'd': 4}\n"
          ]
        }
      ]
    },
    {
      "cell_type": "code",
      "source": [
        "# 30. Convert a list of strings into a set\n",
        "str_list = [\"apple\", \"banana\", \"apple\", \"cherry\"]\n",
        "str_set = set(str_list)\n",
        "print(str_set)\n"
      ],
      "metadata": {
        "colab": {
          "base_uri": "https://localhost:8080/"
        },
        "id": "bxxs5rGd1p-t",
        "outputId": "b2b05dbf-bb3d-45e4-b4a3-6b30d40774a2"
      },
      "execution_count": 48,
      "outputs": [
        {
          "output_type": "stream",
          "name": "stdout",
          "text": [
            "{'banana', 'apple', 'cherry'}\n"
          ]
        }
      ]
    }
  ]
}